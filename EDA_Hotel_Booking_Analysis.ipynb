{
  "nbformat": 4,
  "nbformat_minor": 0,
  "metadata": {
    "colab": {
      "private_outputs": true,
      "provenance": [],
      "collapsed_sections": [
        "vncDsAP0Gaoa",
        "FJNUwmbgGyua",
        "w6K7xa23Elo4",
        "yQaldy8SH6Dl",
        "PH-0ReGfmX4f",
        "mDgbUHAGgjLW",
        "O_i_v8NEhb9l",
        "HhfV-JJviCcP",
        "Y3lxredqlCYt",
        "3RnN4peoiCZX",
        "x71ZqKXriCWQ",
        "7hBIi_osiCS2",
        "JlHwYmJAmNHm",
        "35m5QtbWiB9F",
        "PoPl-ycgm1ru",
        "H0kj-8xxnORC",
        "nA9Y7ga8ng1Z",
        "PBTbrJXOngz2",
        "u3PMJOP6ngxN",
        "dauF4eBmngu3",
        "bKJF3rekwFvQ",
        "MSa1f5Uengrz",
        "GF8Ens_Soomf",
        "0wOQAZs5pc--",
        "K5QZ13OEpz2H",
        "lQ7QKXXCp7Bj",
        "448CDAPjqfQr",
        "KSlN3yHqYklG",
        "t6dVpIINYklI",
        "ijmpgYnKYklI",
        "-JiQyfWJYklI",
        "EM7whBJCYoAo",
        "fge-S5ZAYoAp",
        "85gYPyotYoAp",
        "RoGjAbkUYoAp",
        "4Of9eVA-YrdM",
        "iky9q4vBYrdO",
        "F6T5p64dYrdO",
        "y-Ehk30pYrdP",
        "bamQiAODYuh1",
        "QHF8YVU7Yuh3",
        "GwzvFGzlYuh3",
        "qYpmQ266Yuh3",
        "OH-pJp9IphqM",
        "bbFf2-_FphqN",
        "_ouA3fa0phqN",
        "Seke61FWphqN",
        "PIIx-8_IphqN",
        "t27r6nlMphqO",
        "r2jJGEOYphqO",
        "b0JNsNcRphqO",
        "BZR9WyysphqO",
        "jj7wYXLtphqO",
        "eZrbJ2SmphqO",
        "rFu4xreNphqO",
        "YJ55k-q6phqO",
        "gCFgpxoyphqP",
        "OVtJsKN_phqQ",
        "lssrdh5qphqQ",
        "U2RJ9gkRphqQ",
        "1M8mcRywphqQ",
        "tgIPom80phqQ",
        "JMzcOPDDphqR",
        "x-EpHcCOp1ci",
        "X_VqEhTip1ck",
        "8zGJKyg5p1ck",
        "PVzmfK_Ep1ck",
        "n3dbpmDWp1ck",
        "ylSl6qgtp1ck",
        "ZWILFDl5p1ck",
        "M7G43BXep1ck",
        "Ag9LCva-p1cl",
        "E6MkPsBcp1cl",
        "2cELzS2fp1cl",
        "3MPXvC8up1cl",
        "NC_X3p0fY2L0",
        "UV0SzAkaZNRQ",
        "YPEH6qLeZNRQ",
        "q29F0dvdveiT",
        "EXh0U9oCveiU",
        "22aHeOlLveiV",
        "JcMwzZxoAimU",
        "8G2x9gOozGDZ",
        "gCX9965dhzqZ",
        "gIfDvo9L0UH2"
      ],
      "include_colab_link": true
    },
    "kernelspec": {
      "name": "python3",
      "display_name": "Python 3"
    },
    "language_info": {
      "name": "python"
    }
  },
  "cells": [
    {
      "cell_type": "markdown",
      "metadata": {
        "id": "view-in-github",
        "colab_type": "text"
      },
      "source": [
        "<a href=\"https://colab.research.google.com/github/Linku1999/Hotel-Booking-Analysis/blob/main/EDA_Hotel_Booking_Analysis.ipynb\" target=\"_parent\"><img src=\"https://colab.research.google.com/assets/colab-badge.svg\" alt=\"Open In Colab\"/></a>"
      ]
    },
    {
      "cell_type": "markdown",
      "source": [
        "# **Project Name**    -\n",
        "\n"
      ],
      "metadata": {
        "id": "vncDsAP0Gaoa"
      }
    },
    {
      "cell_type": "markdown",
      "source": [
        "##### **Project Type**    - EDA/Hotel Booking Analysis\n",
        "##### **Contribution**    - Individual\n"
      ],
      "metadata": {
        "id": "beRrZCGUAJYm"
      }
    },
    {
      "cell_type": "markdown",
      "source": [
        "# **Project Summary -**"
      ],
      "metadata": {
        "id": "FJNUwmbgGyua"
      }
    },
    {
      "cell_type": "markdown",
      "source": [
        "The hotel booking dataset was analyzed to gather insights and make informed hotel booking decisions. The dataset comprised factors such as hotel type, food type, stay duration, and others. The analysis's purpose was to aid tourists in selecting the correct hotel at the right price, ensuring a safe and happy stay, and assisting hotel management in making decisions to improve their services.\n",
        "\n",
        "The first step was to load the dataset into a notebook and examine its structure. The dataset had 119,390 rows and 32 columns. Unwanted values and features were removed from the data. The \"company\" column, which held a large amount of null data, was eliminated. To guarantee consistency, null values in other columns were replaced with zeros with an accurate analysis.\n",
        "\n",
        "Data visualisation was critical in comprehending the information contained in the dataset. To depict the data graphically and draw significant insights, various visual elements such as pie charts, bar charts, line charts, and correlation plots were used.\n",
        "\n",
        "The project's goals were to identify the optimum time of year to book hotel rooms, establish the optimal length of stay for the greatest daily cost, and forecast the chance of hotels receiving an unusually high number of special requests. Furthermore, factors influencing rates and service levels were investigated to help both tourists and hotel management make informed judgements.\n"
      ],
      "metadata": {
        "id": "F6v_1wHtG2nS"
      }
    },
    {
      "cell_type": "markdown",
      "source": [
        "# **GitHub Link -**"
      ],
      "metadata": {
        "id": "w6K7xa23Elo4"
      }
    },
    {
      "cell_type": "markdown",
      "source": [
        "https://github.com/Linku1999/Hotel-Booking-Analysis"
      ],
      "metadata": {
        "id": "h1o69JH3Eqqn"
      }
    },
    {
      "cell_type": "markdown",
      "source": [
        "# **Problem Statement**\n"
      ],
      "metadata": {
        "id": "yQaldy8SH6Dl"
      }
    },
    {
      "cell_type": "markdown",
      "source": [
        "**Have you ever wondered when the best time of year to book a hotel room is? Or the optimal lenght of stay in order to get the best daily rate? What if you wanted to predict whether or not a hotel was likely to receive a disproportionately high number of special request?\n",
        "This hotel booking dataset can help you explore those question! This dataset contains booking information for a city hotel and a resort hotel, and includes information such as when the booking was made, length of stay, the number of adults, children, and/or babies, and the number of available parking spaces, among other things. All personally identifying information has been removed from the data.**"
      ],
      "metadata": {
        "id": "DpeJGUA3kjGy"
      }
    },
    {
      "cell_type": "markdown",
      "source": [
        "#### **Define Your Business Objective?**"
      ],
      "metadata": {
        "id": "PH-0ReGfmX4f"
      }
    },
    {
      "cell_type": "markdown",
      "source": [
        "We have given the dataset of hotel booking, In the provided dataset contains the information of Hotel type , Meal type, Stay duration , etc. While any tour or trip I don't want to pay any amount randomly, rather I will pay some optimized money for stay. And I wan't my vacation to be safe with good stay and good meal with optimized money.\n",
        "This analysis will help the tourist to choose the right hotel,right price, Proper and safe stay also it helps Hotel Management to take right decision for making any changes in service level."
      ],
      "metadata": {
        "id": "PhDvGCAqmjP1"
      }
    },
    {
      "cell_type": "markdown",
      "source": [
        "# **General Guidelines** : -  "
      ],
      "metadata": {
        "id": "mDgbUHAGgjLW"
      }
    },
    {
      "cell_type": "markdown",
      "source": [
        "1.   Well-structured, formatted, and commented code is required.\n",
        "2.   Exception Handling, Production Grade Code & Deployment Ready Code will be a plus. Those students will be awarded some additional credits.\n",
        "     \n",
        "     The additional credits will have advantages over other students during Star Student selection.\n",
        "       \n",
        "             [ Note: - Deployment Ready Code is defined as, the whole .ipynb notebook should be executable in one go\n",
        "                       without a single error logged. ]\n",
        "\n",
        "3.   Each and every logic should have proper comments.\n",
        "4. You may add as many number of charts you want. Make Sure for each and every chart the following format should be answered.\n",
        "        \n",
        "\n",
        "```\n",
        "# Chart visualization code\n",
        "```\n",
        "            \n",
        "\n",
        "*   Why did you pick the specific chart?\n",
        "*   What is/are the insight(s) found from the chart?\n",
        "* Will the gained insights help creating a positive business impact?\n",
        "Are there any insights that lead to negative growth? Justify with specific reason.\n",
        "\n",
        "5. You have to create at least 20 logical & meaningful charts having important insights.\n",
        "\n",
        "\n",
        "[ Hints : - Do the Vizualization in  a structured way while following \"UBM\" Rule.\n",
        "\n",
        "U - Univariate Analysis,\n",
        "\n",
        "B - Bivariate Analysis (Numerical - Categorical, Numerical - Numerical, Categorical - Categorical)\n",
        "\n",
        "M - Multivariate Analysis\n",
        " ]\n",
        "\n",
        "\n",
        "\n"
      ],
      "metadata": {
        "id": "ZrxVaUj-hHfC"
      }
    },
    {
      "cell_type": "markdown",
      "source": [
        "# ***Let's Begin !***"
      ],
      "metadata": {
        "id": "O_i_v8NEhb9l"
      }
    },
    {
      "cell_type": "markdown",
      "source": [
        "## ***1. Know Your Data***"
      ],
      "metadata": {
        "id": "HhfV-JJviCcP"
      }
    },
    {
      "cell_type": "markdown",
      "source": [
        "### Import Libraries"
      ],
      "metadata": {
        "id": "Y3lxredqlCYt"
      }
    },
    {
      "cell_type": "code",
      "source": [
        "# Importing the required library\n",
        "import numpy as np\n",
        "import pandas as pd\n",
        "import matplotlib\n",
        "import matplotlib.pyplot as plt\n",
        "import seaborn as sns\n",
        "%matplotlib inline\n",
        "import missingno as msno"
      ],
      "metadata": {
        "id": "M8Vqi-pPk-HR"
      },
      "execution_count": null,
      "outputs": []
    },
    {
      "cell_type": "markdown",
      "source": [
        "### Dataset Loading"
      ],
      "metadata": {
        "id": "3RnN4peoiCZX"
      }
    },
    {
      "cell_type": "code",
      "source": [
        "# Mount the drive to the notebook\n",
        "from google.colab import drive\n",
        "drive.mount('/content/drive')"
      ],
      "metadata": {
        "id": "4CkvbW_SlZ_R"
      },
      "execution_count": null,
      "outputs": []
    },
    {
      "cell_type": "code",
      "source": [
        "#Importing the dataset from the drive\n",
        "df_data = pd.read_csv(\"/content/drive/MyDrive/Alamabetter/cohort enlighten/python/EDA Project/Hotel Bookings (1).csv\")"
      ],
      "metadata": {
        "id": "6RiOyDPPZsop"
      },
      "execution_count": null,
      "outputs": []
    },
    {
      "cell_type": "markdown",
      "source": [
        "### Dataset First View"
      ],
      "metadata": {
        "id": "x71ZqKXriCWQ"
      }
    },
    {
      "cell_type": "code",
      "source": [
        "# Let's make a copy of our data , so original data will not be affect\n",
        "df = df_data.copy()"
      ],
      "metadata": {
        "id": "LWNFOSvLl09H"
      },
      "execution_count": null,
      "outputs": []
    },
    {
      "cell_type": "code",
      "source": [
        "#Let's take a first view of data\n",
        "df.head()"
      ],
      "metadata": {
        "id": "e-VagLI2aNii"
      },
      "execution_count": null,
      "outputs": []
    },
    {
      "cell_type": "code",
      "source": [
        "df.tail()"
      ],
      "metadata": {
        "id": "GUYMIGJtaQ1L"
      },
      "execution_count": null,
      "outputs": []
    },
    {
      "cell_type": "markdown",
      "source": [
        "### Dataset Rows & Columns count"
      ],
      "metadata": {
        "id": "7hBIi_osiCS2"
      }
    },
    {
      "cell_type": "code",
      "source": [
        "# Check the dataset row and column\n",
        "df.shape"
      ],
      "metadata": {
        "id": "yOeQimJlaTpy"
      },
      "execution_count": null,
      "outputs": []
    },
    {
      "cell_type": "markdown",
      "source": [
        "### Dataset Information"
      ],
      "metadata": {
        "id": "JlHwYmJAmNHm"
      }
    },
    {
      "cell_type": "code",
      "source": [
        "# Let's check the info of the data\n",
        "df.info()"
      ],
      "metadata": {
        "id": "e9hRXRi6meOf"
      },
      "execution_count": null,
      "outputs": []
    },
    {
      "cell_type": "code",
      "source": [
        "df.describe()"
      ],
      "metadata": {
        "id": "oIbI53U0a4_t"
      },
      "execution_count": null,
      "outputs": []
    },
    {
      "cell_type": "markdown",
      "source": [
        "#### Duplicate Values"
      ],
      "metadata": {
        "id": "35m5QtbWiB9F"
      }
    },
    {
      "cell_type": "code",
      "source": [
        "# Count duplicate values\n",
        "duplicate_counts = df.duplicated().sum()\n",
        "\n",
        "# Print the result\n",
        "print(\"Number of duplicate values:\", duplicate_counts)"
      ],
      "metadata": {
        "id": "1sLdpKYkmox0"
      },
      "execution_count": null,
      "outputs": []
    },
    {
      "cell_type": "markdown",
      "source": [
        "#### Missing Values/Null Values"
      ],
      "metadata": {
        "id": "PoPl-ycgm1ru"
      }
    },
    {
      "cell_type": "code",
      "source": [
        "#Checking the total null values in data\n",
        "df.isnull().sum()"
      ],
      "metadata": {
        "id": "GgHWkxvamxVg"
      },
      "execution_count": null,
      "outputs": []
    },
    {
      "cell_type": "code",
      "source": [
        "# Visualize missing values\n",
        "msno.matrix(df)\n",
        "plt.show()"
      ],
      "metadata": {
        "id": "3q5wnI3om9sJ"
      },
      "execution_count": null,
      "outputs": []
    },
    {
      "cell_type": "code",
      "source": [
        "# In this above Null data\n",
        "# 4 null values present in 'Children'\n",
        "# 488 null values present in 'country'\n",
        "# 16340 null values present in 'agent'\n",
        "# 112593 null values present in 'company'\n",
        "\n",
        "#As 'Company' has huge amount of Null values so we will drop this column to make further analysis easy"
      ],
      "metadata": {
        "id": "4p1nC1pJcJzj"
      },
      "execution_count": null,
      "outputs": []
    },
    {
      "cell_type": "code",
      "source": [
        "df.drop(['company'], axis=1, inplace = True)"
      ],
      "metadata": {
        "id": "QlY5FlW4cM3D"
      },
      "execution_count": null,
      "outputs": []
    },
    {
      "cell_type": "code",
      "source": [
        "# Now we will fill remaining null data with zero\n",
        "df['children'].fillna(value = 0, inplace = True)\n",
        "df['agent'].fillna(value = 0, inplace = True)\n",
        "df['country'].fillna(value = 'Others', inplace = True)"
      ],
      "metadata": {
        "id": "s8OWGoQBcSUO"
      },
      "execution_count": null,
      "outputs": []
    },
    {
      "cell_type": "code",
      "source": [
        "# Verify again the data\n",
        "df.isnull().sum()"
      ],
      "metadata": {
        "id": "klerF4oVcUib"
      },
      "execution_count": null,
      "outputs": []
    },
    {
      "cell_type": "markdown",
      "source": [
        "### What did you know about your dataset?"
      ],
      "metadata": {
        "id": "H0kj-8xxnORC"
      }
    },
    {
      "cell_type": "markdown",
      "source": [
        "**Hence no any null value pending in this dataset now we are ready.**"
      ],
      "metadata": {
        "id": "gfoNAAC-nUe_"
      }
    },
    {
      "cell_type": "markdown",
      "source": [
        "## ***2. Understanding Your Variables***"
      ],
      "metadata": {
        "id": "nA9Y7ga8ng1Z"
      }
    },
    {
      "cell_type": "code",
      "source": [
        "# Dataset Describe\n",
        "df.describe()"
      ],
      "metadata": {
        "id": "j7xfkqrt5Ag5"
      },
      "execution_count": null,
      "outputs": []
    },
    {
      "cell_type": "markdown",
      "source": [
        "### Variables Description"
      ],
      "metadata": {
        "id": "PBTbrJXOngz2"
      }
    },
    {
      "cell_type": "markdown",
      "source": [
        "# **Variables Description**\n",
        "Some of important varibales\n",
        "1. hotel: type of hotels\n",
        "2. is_canceled: canceled or not\n",
        "3. lead_time: no. of days before actual\n",
        "arrival in the hotel\n",
        "4. arrival_date_year: year of booking\n",
        "5. arrival_date_month: month of booking\n",
        "6. arrival_date_week_number: week\n",
        "number of the year in which booking\n",
        "7.arrival_date_day_of_month: arrival\n",
        "month date\n",
        "8. stays_in_weekend_nights: no. of\n",
        "weekends guest stayed\n",
        "9. stays_in_week_nights: no. of weekdays\n",
        "guest stayed\n",
        "10. meal: BB – Bed & Breakfast\n",
        "HB – only two meals including\n",
        "breakfast meal\n",
        "FB – breakfast, lunch, and dinner\n",
        "11. market_segment: TA: Travel agents\n",
        "TO: Tour operators\n",
        "12. previous_cancellations: cancellation in\n",
        "past\n",
        "13. previous_bookings_not_canceled: not\n",
        "canceled in the past."
      ],
      "metadata": {
        "id": "aJV4KIxSnxay"
      }
    },
    {
      "cell_type": "markdown",
      "source": [
        "### Check Unique Values for each variable."
      ],
      "metadata": {
        "id": "u3PMJOP6ngxN"
      }
    },
    {
      "cell_type": "code",
      "source": [
        "# Iterate over each column in the DataFrame\n",
        "for column in df.columns:\n",
        "    unique_values = df[column].unique()\n",
        "    num_unique_values = len(unique_values)\n",
        "\n",
        "    # Print the unique values for the current column\n",
        "    print(\"Unique values for column\", column)\n",
        "    print(unique_values)\n",
        "\n",
        "    # Print the number of unique values for the current column\n",
        "    print(\"Number of unique values:\", num_unique_values)\n",
        "    print()"
      ],
      "metadata": {
        "id": "zms12Yq5n-jE"
      },
      "execution_count": null,
      "outputs": []
    },
    {
      "cell_type": "markdown",
      "source": [
        "## 3. ***Data Wrangling***"
      ],
      "metadata": {
        "id": "dauF4eBmngu3"
      }
    },
    {
      "cell_type": "markdown",
      "source": [
        "### Data Wrangling Code"
      ],
      "metadata": {
        "id": "bKJF3rekwFvQ"
      }
    },
    {
      "cell_type": "code",
      "source": [
        "# Adding some extra column like total number of stay and revenue\n",
        "df['total_num_of_stay'] = df['stays_in_week_nights'] + df['stays_in_weekend_nights']"
      ],
      "metadata": {
        "id": "wk-9a2fpoLcV"
      },
      "execution_count": null,
      "outputs": []
    },
    {
      "cell_type": "code",
      "source": [
        "#Calculating revenue and adding into a data\n",
        "df['revenue'] = df['total_num_of_stay']*df['adr']"
      ],
      "metadata": {
        "id": "oBe93dmvda51"
      },
      "execution_count": null,
      "outputs": []
    },
    {
      "cell_type": "code",
      "source": [
        "df.info()"
      ],
      "metadata": {
        "id": "JgP5WJRHdeTk"
      },
      "execution_count": null,
      "outputs": []
    },
    {
      "cell_type": "code",
      "source": [
        "# In is_cancelled column boolean values are present hence lets convet into a string\n",
        "df['is_cancelled'] = df.is_canceled.replace(to_replace = [1,0], value = ['canceled', 'not_canceled'])"
      ],
      "metadata": {
        "id": "rSzvwzBodf3R"
      },
      "execution_count": null,
      "outputs": []
    },
    {
      "cell_type": "markdown",
      "source": [
        "### What all manipulations have you done and insights you found?"
      ],
      "metadata": {
        "id": "MSa1f5Uengrz"
      }
    },
    {
      "cell_type": "markdown",
      "source": [
        "# We have added column revenue and total num of stay, also we have changed is_cancelled column with appropriate data"
      ],
      "metadata": {
        "id": "LbyXE7I1olp8"
      }
    },
    {
      "cell_type": "markdown",
      "source": [
        "## ***4. Data Vizualization, Storytelling & Experimenting with charts : Understand the relationships between variables***"
      ],
      "metadata": {
        "id": "GF8Ens_Soomf"
      }
    },
    {
      "cell_type": "markdown",
      "source": [
        "# Q.1 Which hotel is more preferred by customers?"
      ],
      "metadata": {
        "id": "0wOQAZs5pc--"
      }
    },
    {
      "cell_type": "code",
      "source": [
        "# Let's us use the data visualization tool to find the hotel preference\n",
        "plt.rcParams['figure.figsize'] = (8,8)\n",
        "\n",
        "#Lets give the type of chart, colour and size\n",
        "df['hotel'].value_counts().plot(kind='pie', colors = ['orange','yellow'], autopct='%.0f%%', fontsize = 16)\n",
        "plt.title('Types of Hotel', fontsize = 18)\n",
        "plt.ylabel('hotel', fontsize = 16)"
      ],
      "metadata": {
        "id": "7v_ESjsspbW7"
      },
      "execution_count": null,
      "outputs": []
    },
    {
      "cell_type": "markdown",
      "source": [
        "\n",
        "\n",
        "*   **Above pie chart city hotel has more preference than the Resort hotel**\n",
        "*   **City hotel have 66% preference and Resort hotel have 34% preference**\n",
        "\n",
        "\n",
        "\n"
      ],
      "metadata": {
        "id": "C_j1G7yiqdRP"
      }
    },
    {
      "cell_type": "markdown",
      "source": [
        "# Q 2 Check the cancellation data using data visualization"
      ],
      "metadata": {
        "id": "KSlN3yHqYklG"
      }
    },
    {
      "cell_type": "code",
      "source": [
        "# Let's plot the chart to show the data\n",
        "df.is_canceled.value_counts().plot(kind='pie', colors = ['green', 'pink'], autopct='%.0f%%', fontsize = 16)\n",
        "plt.title('Cancelation Plot for Hotel Booking Customers', fontsize = 18)\n",
        "plt.ylabel('count', fontsize = 16)"
      ],
      "metadata": {
        "id": "R4YgtaqtYklH"
      },
      "execution_count": null,
      "outputs": []
    },
    {
      "cell_type": "markdown",
      "source": [
        "\n",
        "\n",
        "*   **The plot shows 37% bookings were canceled by the customers over 63% is\n",
        "not canceled**\n",
        "\n",
        "\n",
        "\n",
        "\n",
        "\n",
        "\n"
      ],
      "metadata": {
        "id": "BcBbebzrYklV"
      }
    },
    {
      "cell_type": "markdown",
      "source": [
        "# Q 3 Let's check it out the arrival data"
      ],
      "metadata": {
        "id": "EM7whBJCYoAo"
      }
    },
    {
      "cell_type": "code",
      "source": [
        "# Lets check the data by year\n",
        "arrival_by_year = df[['arrival_date_year','hotel']].value_counts().groupby('arrival_date_year').sum()"
      ],
      "metadata": {
        "id": "t6GMdE67YoAp"
      },
      "execution_count": null,
      "outputs": []
    },
    {
      "cell_type": "code",
      "source": [
        "# Lets print the plot\n",
        "plt.rcParams['figure.figsize'] = (10,8)\n",
        "arrival_by_year.plot(kind='bar', color = ['pink', 'blue','yellow'], fontsize = 16)\n",
        "plt.title('Year Wise Bookings', fontsize = 18)\n",
        "plt.xlabel('Arrival Year', fontsize = 15)\n",
        "plt.ylabel('Count of arrival', fontsize = 15)"
      ],
      "metadata": {
        "id": "4YCAfcTWkbtc"
      },
      "execution_count": null,
      "outputs": []
    },
    {
      "cell_type": "markdown",
      "source": [
        "*   **We can observed that in the year 2016 arrival is more than double of the previous year but also**\n",
        "\n",
        "\n",
        "*   **it is observed that arrival has been fallen down in 2017. Hotel Management need to check for the same**\n",
        "\n",
        "\n",
        "\n",
        "\n",
        "\n",
        "\n"
      ],
      "metadata": {
        "id": "zfJ8IqMcYoAp"
      }
    },
    {
      "cell_type": "code",
      "source": [
        "# Let's calculate for both hotels\n",
        "# Ploting the graph for both hotel\n",
        "plt.rcParams['figure.figsize'] = (10,6)\n",
        "sns.countplot(data = df, x = 'arrival_date_year', hue = 'hotel')\n",
        "plt.title('Arrival per year for each hotel', fontsize = 18)\n",
        "plt.xlabel('Arrival Year', fontsize = 14)\n",
        "plt.ylabel('Count of arrival', fontsize = 14)"
      ],
      "metadata": {
        "id": "2b6ssnqkkqB3"
      },
      "execution_count": null,
      "outputs": []
    },
    {
      "cell_type": "markdown",
      "source": [
        "\n",
        "\n",
        "*   **We can observe that number of arrivals seems to be high in year 2016 for city hotel compared to Resort Hotel, while the bookings seem to be less in 2015 and 2017 for both resort hotel and city hotel.**\n",
        "\n",
        "\n",
        "\n",
        "\n",
        "\n",
        "\n",
        "\n"
      ],
      "metadata": {
        "id": "H-5k5UpSkzKU"
      }
    },
    {
      "cell_type": "code",
      "source": [
        "# let's us check arrival per month\n",
        "# Creating the plot arrival per month\n",
        "plt.rcParams['figure.figsize'] = (22,7)\n",
        "sns.countplot(data = df, x = 'arrival_date_month', hue = 'hotel', order = ['January', 'February','March', 'April','May','June','July','August','September','October','November','December'])\n",
        "plt.title('Arrival per month for each hotel', fontsize = 18)\n",
        "plt.xlabel('Arrival Month', fontsize = 14)\n",
        "plt.ylabel('Count of Arrival', fontsize = 14)"
      ],
      "metadata": {
        "id": "DKoyTH7ok3Z9"
      },
      "execution_count": null,
      "outputs": []
    },
    {
      "cell_type": "markdown",
      "source": [
        "[link text](https://)\n",
        "\n",
        "*   **We observed that for initial month of the year arrival is less compared to mid-months.**\n",
        "\n",
        "\n",
        "*   **For month May, June,July and August maximum arrival has been seen**\n",
        "\n",
        "*   **for last 2 months trends follows with Jan and Feb Month**\n",
        "\n",
        "\n"
      ],
      "metadata": {
        "id": "qjPXqJKtlBgK"
      }
    },
    {
      "cell_type": "code",
      "source": [
        "# Lets check more preferred country\n",
        "# We will consider only top 10 countries\n",
        "most_preferred_country = df['country'].value_counts().head(10)\n",
        "most_preferred_country"
      ],
      "metadata": {
        "id": "ddid4n2MlIHy"
      },
      "execution_count": null,
      "outputs": []
    },
    {
      "cell_type": "code",
      "source": [
        "#let's print on the plot\n",
        "plt.rcParams['figure.figsize'] = (20,10)\n",
        "most_preferred_country.plot(kind='bar', color = ['yellow'], fontsize = 12)\n",
        "plt.title('Preference by Country', fontsize = 18)\n",
        "plt.xlabel('Country', fontsize = 15)\n",
        "plt.ylabel('Counts', fontsize = 15)"
      ],
      "metadata": {
        "id": "WcEw1ikPlS0H"
      },
      "execution_count": null,
      "outputs": []
    },
    {
      "cell_type": "markdown",
      "source": [
        "* **Most preferred country is PRT followed by GBR**   \n",
        "\n"
      ],
      "metadata": {
        "id": "sc7uyAeLlXEq"
      }
    },
    {
      "cell_type": "markdown",
      "source": [
        "# Q 4 Let us visulize the cancellation data"
      ],
      "metadata": {
        "id": "rIi-QSrAlcql"
      }
    },
    {
      "cell_type": "code",
      "source": [
        "#Lets find the cancelled booking\n",
        "cancelation_data = df.groupby(['hotel','is_canceled'])['is_canceled'].count().unstack()"
      ],
      "metadata": {
        "id": "IywSDOSIlgUG"
      },
      "execution_count": null,
      "outputs": []
    },
    {
      "cell_type": "code",
      "source": [
        "cancelation_data"
      ],
      "metadata": {
        "id": "qzuePmUJljq1"
      },
      "execution_count": null,
      "outputs": []
    },
    {
      "cell_type": "code",
      "source": [
        "# let's analyze using the plot\n",
        "plt.rcParams['figure.figsize'] = (12,5)\n",
        "cancelation_data.plot(kind = 'bar', color = ['greenyellow', 'blue'], fontsize = 12)\n",
        "plt.title('Cancelation Data for Hotel (0 = Not Cancelled and 1 = Cancelled)', fontsize = 18)\n",
        "plt.xlabel('Hotel Type', fontsize = 14)\n",
        "plt.ylabel('Count', fontsize = 14)"
      ],
      "metadata": {
        "id": "NhYxT-RBlnrj"
      },
      "execution_count": null,
      "outputs": []
    },
    {
      "cell_type": "markdown",
      "source": [
        "*italicized text*\n",
        "\n",
        "*  **We observed that city hotel have more cancellation than the Resort hotel hence Hotel Management need to take proper decision to minimize the cancellation**  \n",
        "\n"
      ],
      "metadata": {
        "id": "3Bxhl31WlsjT"
      }
    },
    {
      "cell_type": "markdown",
      "source": [
        "# Q 5 Analysis the data on the basis of ADR (Average Daily Count Rate)"
      ],
      "metadata": {
        "id": "pZW30iyplzDH"
      }
    },
    {
      "cell_type": "code",
      "source": [
        "# Let's find out of Average ADR for types of hotel\n",
        "average_adr_hotel = df.groupby(['hotel'])['adr'].mean()\n",
        "average_adr_hotel"
      ],
      "metadata": {
        "id": "ptIDiEVUl1ZM"
      },
      "execution_count": null,
      "outputs": []
    },
    {
      "cell_type": "code",
      "source": [
        "#let's visualize using plot\n",
        "plt.rcParams['figure.figsize'] = (10,6)\n",
        "average_adr_hotel.plot(kind = 'bar', color = ['skyblue', 'orange'], fontsize = 10)\n",
        "plt.title('ADR on the basis of Hotel Type')\n",
        "plt.xlabel('Hotel Type', fontsize = 14 )\n",
        "plt.ylabel('Average ADR', fontsize = 14)"
      ],
      "metadata": {
        "id": "iKsk-T6NmBog"
      },
      "execution_count": null,
      "outputs": []
    },
    {
      "cell_type": "markdown",
      "source": [
        "\n",
        "\n",
        "*    **ADR for city hotel is slightely more than Resort Hotel**\n",
        "\n",
        "\n",
        "\n"
      ],
      "metadata": {
        "id": "yRQFOZUwmG2Z"
      }
    },
    {
      "cell_type": "code",
      "source": [
        "# Let's check ADR for top 10 countries\n",
        "country_adr = df.groupby(['country'])['adr'].mean().sort_values(ascending = False)[0:10]\n",
        "\n",
        "country_adr"
      ],
      "metadata": {
        "id": "0IfDSx-cmKDG"
      },
      "execution_count": null,
      "outputs": []
    },
    {
      "cell_type": "code",
      "source": [
        "# Let's check with the graph\n",
        "plt.rcParams['figure.figsize'] = (14,8)\n",
        "country_adr.plot(kind = 'bar', color = 'skyblue', fontsize = 10)\n",
        "plt.title('ADR for top 10 countries')\n",
        "plt.xlabel('Country', fontsize = 12 )\n",
        "plt.ylabel('Average ADR', fontsize = 12)"
      ],
      "metadata": {
        "id": "LGOn6V8ImSJI"
      },
      "execution_count": null,
      "outputs": []
    },
    {
      "cell_type": "markdown",
      "source": [
        "\n",
        "*   **We can see DJI have highest ADR comparing to all other countries**\n",
        "\n",
        "\n"
      ],
      "metadata": {
        "id": "2h4i7heumV5Q"
      }
    },
    {
      "cell_type": "code",
      "source": [
        "# Let's Now we will check the ADR for different month and year\n",
        "month_year_adr = df.groupby(['arrival_date_month','arrival_date_year'])['adr'].mean()"
      ],
      "metadata": {
        "id": "8ql9QbfXmacH"
      },
      "execution_count": null,
      "outputs": []
    },
    {
      "cell_type": "code",
      "source": [
        "month_year_adr"
      ],
      "metadata": {
        "id": "HxPWLWAymgai"
      },
      "execution_count": null,
      "outputs": []
    },
    {
      "cell_type": "code",
      "source": [
        "# Let's do the visulization\n",
        "line,ax = plt.subplots(figsize=(18,5))\n",
        "sns.lineplot(x='arrival_date_month', y='adr', data=df, hue='arrival_date_year', palette='dark')\n",
        "ax.set_title('ADR for Month and Year', fontsize = 18)\n",
        "ax.set_xlabel('Month', fontsize = 14)\n",
        "ax.set_ylabel('ADR', fontsize = 14)"
      ],
      "metadata": {
        "id": "Z45AHzdTmsIf"
      },
      "execution_count": null,
      "outputs": []
    },
    {
      "cell_type": "markdown",
      "source": [
        "\n",
        "\n",
        "*  **As per above line plot we can clearly seen that Hotel Business scaling up each and every year**\n",
        "\n",
        "\n"
      ],
      "metadata": {
        "id": "rN2o7aW9mxH-"
      }
    },
    {
      "cell_type": "markdown",
      "source": [
        "# Q 6 Lets check the Daily rate  "
      ],
      "metadata": {
        "id": "4Of9eVA-YrdM"
      }
    },
    {
      "cell_type": "code",
      "source": [
        "# Let's we will calculate\n",
        "# Let us initially calculate the not cancelled booking\n",
        "not_cancelled_guests = df.loc[df['is_canceled']==0]"
      ],
      "metadata": {
        "id": "irlUoxc8YrdO"
      },
      "execution_count": null,
      "outputs": []
    },
    {
      "cell_type": "code",
      "source": [
        "# Now we will calculate the price per guest\n",
        "# New column has been added in our data as price\n",
        "df['price'] = not_cancelled_guests['adr']*not_cancelled_guests['total_num_of_stay']\n",
        "df.head()"
      ],
      "metadata": {
        "id": "glPxaOb2nKNI"
      },
      "execution_count": null,
      "outputs": []
    },
    {
      "cell_type": "code",
      "source": [
        "#let's visualize the data by using lineplot using month\n",
        "plt.rcParams['figure.figsize'] = (15,6)\n",
        "sns.lineplot(data=df, x =df['arrival_date_month'], y=df['price'], hue='hotel')\n",
        "plt.title('Month-wise Price Paid for stay by Guests', fontsize = 12)\n",
        "plt.xlabel('Month', fontsize = 12 )\n",
        "plt.ylabel('Price paid for Stay', fontsize = 12)"
      ],
      "metadata": {
        "id": "JaxPKx18nVFz"
      },
      "execution_count": null,
      "outputs": []
    },
    {
      "cell_type": "markdown",
      "source": [
        "*   **We observed that price paid by guest in city hotel is lower than the Resort Hotel**\n",
        "\n",
        "\n",
        "*   **Price of Resort Hotel are more than City Hotel in Month of June, July, August, September. For rest of the months, Price of city Hotel are consistently higher thar Resort Hotel**"
      ],
      "metadata": {
        "id": "6YL0DuS6nbvi"
      }
    },
    {
      "cell_type": "markdown",
      "source": [
        "# Q 7 Analysis using Correlation Heatmap"
      ],
      "metadata": {
        "id": "-C1Yl50Yndxp"
      }
    },
    {
      "cell_type": "code",
      "source": [
        "plt.rcParams['figure.figsize'] = 24,12\n",
        "sns.heatmap(df.corr(), cmap = 'coolwarm', annot=True);"
      ],
      "metadata": {
        "id": "UWTd4SGtnlIx"
      },
      "execution_count": null,
      "outputs": []
    },
    {
      "cell_type": "markdown",
      "source": [
        "*   **Focus on revenue, stay_in_week_nights total_num_of_stay , we can verify that, revenue were almost same for stay_in_week_nights and total_num_of_stay**\n",
        "\n",
        "\n",
        "*   **Also it is obsereved that stay_in_week_nights was more than the weekend night stay**"
      ],
      "metadata": {
        "id": "kFagwU6InrIP"
      }
    },
    {
      "cell_type": "markdown",
      "source": [
        "## **5. Solution to Business Objective**"
      ],
      "metadata": {
        "id": "JcMwzZxoAimU"
      }
    },
    {
      "cell_type": "markdown",
      "source": [
        "#### What do you suggest the client to achieve Business Objective ?\n",
        "Explain Briefly."
      ],
      "metadata": {
        "id": "8G2x9gOozGDZ"
      }
    },
    {
      "cell_type": "markdown",
      "source": [
        "#To fulfil the corporate goal of minimising stay costs while providing a safe and satisfying experience, I would recommend to the customer the following:\n",
        "1. Examine Seasonality: Look through the dataset for patterns in booking trends throughout the year. Consider factors such as price, availability, and demand to determine the ideal time of year to book a hotel room. This study will assist the client in obtaining the most competitive rates and availability for their preferred stay.\n",
        "2. Examine Length of Stay: Look into the relationship between length of stay and daily charges. Determine the appropriate length of stay for the most value for money. This research will allow the client to efficiently plan their stay time and maximise their money.\n",
        "3. Compare Hotel and Meal alternatives: Compare the various hotel and meal alternatives available in the dataset. Examine each option's pricing, facilities, and guest reviews. Recommend hotels that provide a good combination of pricing, safety, and quality to guarantee the guest has a pleasant stay.\n",
        "4. Understand Special Requests: Investigate the elements that contribute to an unusually high number of special requests. Determine whether there are any patterns or specific hotel qualities that influence these requests. This research will help the client select hotels that meet their individual needs and preferences.\n",
        "5. Monitor Reviews and Ratings: Examine the dataset's guest reviews and ratings. Concentrate on hotels that have received great evaluations about safety, service quality, and value for money. This information will assist the client in picking dependable hotels and ensuring a good vacation experience.\n",
        "\n",
        "The client can make informed decisions about hotel selection, pricing negotiation, and stay duration by applying these recommendations and exploiting the insights from the dataset. This will allow them to meet their goal of reducing costs while assuring a safe and enjoyable holiday.\n"
      ],
      "metadata": {
        "id": "pASKb0qOza21"
      }
    },
    {
      "cell_type": "markdown",
      "source": [
        "# **Conclusions**"
      ],
      "metadata": {
        "id": "3Ih9ESEBntpe"
      }
    },
    {
      "cell_type": "markdown",
      "source": [
        "1. City hotels have more preferred by customers rather than the resort hotel.\n",
        "2. In overall data and it is found that over 37% of bookings were canceled by the customers.\n",
        "3. Number of cancellations at the City Hotel seems very higher than at the Resort Hotel.\n",
        "4. Number of arrivals seems to be high in year 2016 while the bookings seem to be less in 2015 and 2017.\n",
        "5. Number of arrivals seems to be high in May, June, July, and August for the City Hotel. But several arrivals for the Resort Hotel seem high only seem July and August.\n",
        "6. PRT has more preference followed by GBR.\n",
        "7. As per the line graph of ADR per month for three years, clearly seen that the hotel business is growing every year.\n",
        "8. As per the line graph Price paid for a stay for each month it is seen that the price paid by City Hotel for July, August, and September was less than the Resort hotels.\n",
        "9. In the correlation map we can observe that stay on weeknights was more than the weekend nights"
      ],
      "metadata": {
        "id": "wbq9uXCU0zi0"
      }
    },
    {
      "cell_type": "markdown",
      "source": [
        "### ***Hurrah! You have successfully completed your EDA Capstone Project !!!***"
      ],
      "metadata": {
        "id": "gIfDvo9L0UH2"
      }
    }
  ]
}